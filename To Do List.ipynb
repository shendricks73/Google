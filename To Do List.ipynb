{
  "nbformat": 4,
  "nbformat_minor": 0,
  "metadata": {
    "colab": {
      "provenance": [],
      "authorship_tag": "ABX9TyNWNWEzq/Uv2uqD0GwBNzSx",
      "include_colab_link": true
    },
    "kernelspec": {
      "name": "python3",
      "display_name": "Python 3"
    },
    "language_info": {
      "name": "python"
    }
  },
  "cells": [
    {
      "cell_type": "markdown",
      "metadata": {
        "id": "view-in-github",
        "colab_type": "text"
      },
      "source": [
        "<a href=\"https://colab.research.google.com/github/shendricks73/Google/blob/main/To%20Do%20List.ipynb\" target=\"_parent\"><img src=\"https://colab.research.google.com/assets/colab-badge.svg\" alt=\"Open In Colab\"/></a>"
      ]
    },
    {
      "cell_type": "code",
      "execution_count": 2,
      "metadata": {
        "id": "x_OO7CqsA3SW"
      },
      "outputs": [],
      "source": [
        "class TodoList:\n",
        "    def __init__(self):\n",
        "        self.tasks = []\n",
        "\n",
        "    def add_task(self, task):\n",
        "        self.tasks.append(task)\n",
        "        print(f\"Added task: {task}\")\n",
        "\n",
        "    def remove_task(self, task):\n",
        "        if task in self.tasks:\n",
        "            self.tasks.remove(task)\n",
        "            print(f\"Removed task: {task}\")\n",
        "        else:\n",
        "            print(f\"Task not found: {task}\")\n",
        "\n",
        "    def view_tasks(self):\n",
        "        if self.tasks:\n",
        "            print(\"Your ToDo List:\")\n",
        "            for i, task in enumerate(self.tasks):\n",
        "                print(f\"{i + 1}. {task}\")\n",
        "        else:\n",
        "            print(\"Your ToDo list is empty.\")\n",
        "\n",
        "# Example usage:\n",
        "# my_list = TodoList()\n",
        "# my_list.add_task(\"Buy groceries\")\n",
        "# my_list.add_task(\"Walk the dog\")\n",
        "# my_list.view_tasks()\n",
        "# my_list.remove_task(\"Buy groceries\")\n",
        "# my_list.view_tasks()"
      ]
    }
  ]
}